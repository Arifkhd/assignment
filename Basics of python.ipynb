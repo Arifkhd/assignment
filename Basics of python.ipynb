{
 "cells": [
  {
   "cell_type": "markdown",
   "id": "0b6742d2",
   "metadata": {},
   "source": [
    "Exercise 1: Prime Numbers\n",
    "\n",
    "Write a Python program that checks whether a given number is prime or not. A prime number is a natural number greater than 1 that has no positive divisors other than 1 and itself.\n"
   ]
  },
  {
   "cell_type": "code",
   "execution_count": 38,
   "id": "9901baab",
   "metadata": {},
   "outputs": [
    {
     "name": "stdout",
     "output_type": "stream",
     "text": [
      "Enter number 5\n",
      "5 is a prime number\n"
     ]
    }
   ],
   "source": [
    "# If given number is greater than 1\n",
    "num = int(input(\"Enter number \"))\n",
    "# Iterate from 2 to n // 2\n",
    "for i in range(2, (num//2)+1):\n",
    "    # If num is divisible by any number between\n",
    "    # 2 and n / 2, it is not prime\n",
    "    if (num % i) == 0:\n",
    "        print(num, \"is not a prime number\")\n",
    "    else:\n",
    "        print(num, \"is a prime number\")"
   ]
  },
  {
   "cell_type": "markdown",
   "id": "d3ac52a9",
   "metadata": {},
   "source": [
    "Exercise 2: Product of Random Numbers\n",
    "Develop a Python program that generates two random numbers and asks the user to enter the product of these numbers. The program should then check if the user's answer is correct and display an appropriate message.\n"
   ]
  },
  {
   "cell_type": "code",
   "execution_count": 41,
   "id": "5ca0352d",
   "metadata": {},
   "outputs": [
    {
     "name": "stdout",
     "output_type": "stream",
     "text": [
      "What is the product of 3 and 36? 45\n",
      "Wrong\n"
     ]
    }
   ],
   "source": [
    "\n",
    "import random\n",
    "#Generate two random number between 1 and 100\n",
    "num1 = random.randint(1,100)\n",
    "num2 = random.randint(1,100)\n",
    "\n",
    "#calculate the product\n",
    "num = num1*num2\n",
    "#user to enter the product\n",
    "enter = int(input(f\"What is the product of {num1} and {num2}? \"))\n",
    "try:\n",
    "    #convert user input to an integer\n",
    "    user = int(enter)\n",
    "    #check the condition\n",
    "    if user == num:\n",
    "        print(\"correct\")\n",
    "    else:\n",
    "        print(\"Wrong\")\n",
    "except ValueError:\n",
    "    print(\"please enter valid integer.\")\n",
    "            \n"
   ]
  },
  {
   "cell_type": "markdown",
   "id": "3880f53e",
   "metadata": {},
   "source": [
    "Exercise 3: Squares of Even/Odd Numbers\n",
    "Create a Python script that prints the squares of all even or odd numbers within the range of 100 to 200. Choose either even or odd numbers and document your choice in the code.\n"
   ]
  },
  {
   "cell_type": "code",
   "execution_count": 42,
   "id": "6c03cbcd",
   "metadata": {},
   "outputs": [
    {
     "name": "stdout",
     "output_type": "stream",
     "text": [
      "The square of 100 is 10000\n",
      "The square of 102 is 10404\n",
      "The square of 104 is 10816\n",
      "The square of 106 is 11236\n",
      "The square of 108 is 11664\n",
      "The square of 110 is 12100\n",
      "The square of 112 is 12544\n",
      "The square of 114 is 12996\n",
      "The square of 116 is 13456\n",
      "The square of 118 is 13924\n",
      "The square of 120 is 14400\n",
      "The square of 122 is 14884\n",
      "The square of 124 is 15376\n",
      "The square of 126 is 15876\n",
      "The square of 128 is 16384\n",
      "The square of 130 is 16900\n",
      "The square of 132 is 17424\n",
      "The square of 134 is 17956\n",
      "The square of 136 is 18496\n",
      "The square of 138 is 19044\n",
      "The square of 140 is 19600\n",
      "The square of 142 is 20164\n",
      "The square of 144 is 20736\n",
      "The square of 146 is 21316\n",
      "The square of 148 is 21904\n",
      "The square of 150 is 22500\n",
      "The square of 152 is 23104\n",
      "The square of 154 is 23716\n",
      "The square of 156 is 24336\n",
      "The square of 158 is 24964\n",
      "The square of 160 is 25600\n",
      "The square of 162 is 26244\n",
      "The square of 164 is 26896\n",
      "The square of 166 is 27556\n",
      "The square of 168 is 28224\n",
      "The square of 170 is 28900\n",
      "The square of 172 is 29584\n",
      "The square of 174 is 30276\n",
      "The square of 176 is 30976\n",
      "The square of 178 is 31684\n",
      "The square of 180 is 32400\n",
      "The square of 182 is 33124\n",
      "The square of 184 is 33856\n",
      "The square of 186 is 34596\n",
      "The square of 188 is 35344\n",
      "The square of 190 is 36100\n",
      "The square of 192 is 36864\n",
      "The square of 194 is 37636\n",
      "The square of 196 is 38416\n",
      "The square of 198 is 39204\n",
      "The square of 200 is 40000\n"
     ]
    }
   ],
   "source": [
    "for num in range(100,201):\n",
    "    if num % 2 == 0:\n",
    "        print(f\"The square of {num} is {num**2}\")"
   ]
  },
  {
   "cell_type": "markdown",
   "id": "a51f6d85",
   "metadata": {},
   "source": [
    "Exercise 4: Word counter\n"
   ]
  },
  {
   "cell_type": "code",
   "execution_count": 26,
   "id": "6e5f5fcf",
   "metadata": {},
   "outputs": [
    {
     "name": "stdout",
     "output_type": "stream",
     "text": [
      "'this':1\n",
      "'this':1\n",
      "'is':1\n",
      "'this':1\n",
      "'is':1\n",
      "'a':1\n",
      "'this':1\n",
      "'is':1\n",
      "'a':1\n",
      "'sample':1\n",
      "'this':1\n",
      "'is':1\n",
      "'a':1\n",
      "'sample':1\n",
      "'text':1\n",
      "'this':2\n",
      "'is':1\n",
      "'a':1\n",
      "'sample':1\n",
      "'text':2\n",
      "'will':1\n",
      "'this':2\n",
      "'is':1\n",
      "'a':1\n",
      "'sample':1\n",
      "'text':2\n",
      "'will':1\n",
      "'be':1\n",
      "'this':2\n",
      "'is':1\n",
      "'a':1\n",
      "'sample':1\n",
      "'text':2\n",
      "'will':1\n",
      "'be':1\n",
      "'used':1\n",
      "'this':2\n",
      "'is':1\n",
      "'a':1\n",
      "'sample':1\n",
      "'text':2\n",
      "'will':1\n",
      "'be':1\n",
      "'used':1\n",
      "'to':1\n",
      "'this':2\n",
      "'is':1\n",
      "'a':1\n",
      "'sample':1\n",
      "'text':2\n",
      "'will':1\n",
      "'be':1\n",
      "'used':1\n",
      "'to':1\n",
      "'demonstrate':1\n",
      "'this':2\n",
      "'is':1\n",
      "'a':1\n",
      "'sample':1\n",
      "'text':2\n",
      "'will':1\n",
      "'be':1\n",
      "'used':1\n",
      "'to':1\n",
      "'demonstrate':1\n",
      "'the':1\n",
      "'this':2\n",
      "'is':1\n",
      "'a':1\n",
      "'sample':1\n",
      "'text':2\n",
      "'will':1\n",
      "'be':1\n",
      "'used':1\n",
      "'to':1\n",
      "'demonstrate':1\n",
      "'the':1\n",
      "'word':1\n",
      "'this':2\n",
      "'is':1\n",
      "'a':1\n",
      "'sample':1\n",
      "'text':2\n",
      "'will':1\n",
      "'be':1\n",
      "'used':1\n",
      "'to':1\n",
      "'demonstrate':1\n",
      "'the':1\n",
      "'word':1\n",
      "'counter':1\n"
     ]
    }
   ],
   "source": [
    "import string\n",
    "def count_w(input_text):\n",
    "    input_text = input_text.lower()\n",
    "    trans = str.maketrans('','',string.punctuation)\n",
    "    clean_text = input_text.translate(trans)\n",
    "        \n",
    "    #split text into words\n",
    "    words = clean_text.split()\n",
    "        \n",
    "    word_counts = {}\n",
    "    for word in words:\n",
    "        if word in word_counts:\n",
    "            word_counts[word] += 1\n",
    "        else:\n",
    "            word_counts[word] = 1\n",
    "            for word,count in word_counts.items():\n",
    "                print(f\"'{word}':{count}\")\n",
    "input_text = \"This is a sample text. This text will be used to demonstrate the word counter.\"\n",
    "count_w(input_text)"
   ]
  },
  {
   "cell_type": "markdown",
   "id": "1046fac5",
   "metadata": {},
   "source": [
    "Exercise 5: Check for Palindrome\n",
    "Write a Python function called is_palindrome that takes a string as input and returns True if the string is a palindrome, and False otherwise. A palindrome is a word, phrase, number, or other sequence of characters that reads the same forward and backward, ignoring spaces, punctuation, and capitalization.\n"
   ]
  },
  {
   "cell_type": "code",
   "execution_count": 18,
   "id": "feef82ec",
   "metadata": {},
   "outputs": [
    {
     "name": "stdout",
     "output_type": "stream",
     "text": [
      "Enter character:dfdf\n",
      "False\n"
     ]
    }
   ],
   "source": [
    "def is_palindrome(input_string):\n",
    "    enter = input(\"Enter character:\")\n",
    "    # Remove spaces, punctuation, and convert to lowercase\n",
    "    cleaned_string = ''.join(char.lower() for char in enter if char.isalnum())\n",
    "    \n",
    "    # Check if the cleaned string is the same forward and backward\n",
    "    return cleaned_string == cleaned_string[::-1]\n",
    "print(is_palindrome(\"racecar\"))\n",
    "\n",
    "\n",
    "\n"
   ]
  },
  {
   "cell_type": "raw",
   "id": "f77972de",
   "metadata": {},
   "source": []
  },
  {
   "cell_type": "code",
   "execution_count": null,
   "id": "b9c52648",
   "metadata": {},
   "outputs": [],
   "source": []
  }
 ],
 "metadata": {
  "kernelspec": {
   "display_name": "Python 3 (ipykernel)",
   "language": "python",
   "name": "python3"
  },
  "language_info": {
   "codemirror_mode": {
    "name": "ipython",
    "version": 3
   },
   "file_extension": ".py",
   "mimetype": "text/x-python",
   "name": "python",
   "nbconvert_exporter": "python",
   "pygments_lexer": "ipython3",
   "version": "3.11.7"
  }
 },
 "nbformat": 4,
 "nbformat_minor": 5
}
