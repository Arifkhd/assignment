{
 "cells": [
  {
   "cell_type": "markdown",
   "id": "dc16d96c",
   "metadata": {},
   "source": [
    "# HYPOTHESIS TESTING"
   ]
  },
  {
   "cell_type": "code",
   "execution_count": 2,
   "id": "048213bb",
   "metadata": {},
   "outputs": [],
   "source": [
    "from scipy import stats\n",
    "import scipy"
   ]
  },
  {
   "cell_type": "code",
   "execution_count": 29,
   "id": "ba2e179f",
   "metadata": {},
   "outputs": [],
   "source": [
    "#The theoretical weekly operating cost model: W = $1,000 + $5X\n",
    "#Sample of 25 restaurants with a mean weekly cost of Rs. 3,050\n",
    "#Theoretical mean = 4000\n",
    "#Number of units produced in a week (X) follows a normal distribution with a mean (μ) of 600 units and a \n",
    "#standard deviation (σ) of 25 units\n",
    "#sample = 25"
   ]
  },
  {
   "cell_type": "markdown",
   "id": "921da863",
   "metadata": {},
   "source": [
    "# State the Hypotheses statement:"
   ]
  },
  {
   "cell_type": "code",
   "execution_count": 5,
   "id": "eafd7c23",
   "metadata": {},
   "outputs": [],
   "source": [
    "#Null hypothesis(Ho):The weekly operating cost is equal to the cost predicted by the model\n",
    "#H0:μ = 4000\n",
    "\n",
    "#Alternative hypothesis(H1):weekly operating cost is higher than the cost predicted by the theoretical model\n",
    "#H 1:μ>4000\n",
    "\n",
    "\n",
    "\n",
    "\n"
   ]
  },
  {
   "cell_type": "code",
   "execution_count": 6,
   "id": "c08441b4",
   "metadata": {},
   "outputs": [],
   "source": [
    "#Calculate the Test Statistic:\n",
    "sample_mean = 3050\n",
    "the_mean = 4000\n",
    "sigma = 25\n",
    "sample = 25"
   ]
  },
  {
   "cell_type": "code",
   "execution_count": 7,
   "id": "dec5c9ac",
   "metadata": {},
   "outputs": [],
   "source": [
    "sig = 5 * sigma"
   ]
  },
  {
   "cell_type": "code",
   "execution_count": 8,
   "id": "f058cc68",
   "metadata": {},
   "outputs": [
    {
     "data": {
      "text/plain": [
       "125"
      ]
     },
     "execution_count": 8,
     "metadata": {},
     "output_type": "execute_result"
    }
   ],
   "source": [
    "sig"
   ]
  },
  {
   "cell_type": "code",
   "execution_count": 24,
   "id": "d609765b",
   "metadata": {},
   "outputs": [
    {
     "data": {
      "text/plain": [
       "-38.0"
      ]
     },
     "execution_count": 24,
     "metadata": {},
     "output_type": "execute_result"
    }
   ],
   "source": [
    "test_statistic = (sample_mean - the_mean) / (sig / np.sqrt(sample))\n",
    "test_statistic"
   ]
  },
  {
   "cell_type": "code",
   "execution_count": 28,
   "id": "159e0a4d",
   "metadata": {},
   "outputs": [
    {
     "data": {
      "text/plain": [
       "1.6448536269514722"
      ]
     },
     "execution_count": 28,
     "metadata": {},
     "output_type": "execute_result"
    }
   ],
   "source": [
    "#Determine the Critical Value:\n",
    "alpha = 0.05\n",
    "critical_value  = stats.norm.ppf(1 - alpha)\n",
    "critical_value"
   ]
  },
  {
   "cell_type": "markdown",
   "id": "cb34c733",
   "metadata": {},
   "source": [
    "# Make a Decision:"
   ]
  },
  {
   "cell_type": "code",
   "execution_count": 27,
   "id": "c35d77e3",
   "metadata": {},
   "outputs": [
    {
     "name": "stdout",
     "output_type": "stream",
     "text": [
      "Reject the null hypothesis: There is strong evidence to support the claim that the weekly operating costs are higher than the model suggests.\n"
     ]
    }
   ],
   "source": [
    "if test_statistic < critical_value :\n",
    "    print(\"Reject the null hypothesis: There is strong evidence to support the claim that the weekly operating costs are higher than the model suggests.\")\n",
    "else:\n",
    "    print(\"Fail to reject the null hypothesis: There is no strong evidence to support the claim that the weekly operating costs are higher than the model suggests.\")"
   ]
  },
  {
   "cell_type": "code",
   "execution_count": null,
   "id": "b5523b4b",
   "metadata": {},
   "outputs": [],
   "source": [
    "#conclusion\n",
    "#Based on the comparison,don't have strong evidence to support the restaurant owner's \n",
    "#claim that the weekly operating costs are higher than the model suggests.\n",
    "#fail to reject the null hypothesis,theoretical cost model might still be accurate"
   ]
  },
  {
   "cell_type": "code",
   "execution_count": null,
   "id": "19d7aaf3",
   "metadata": {},
   "outputs": [],
   "source": []
  }
 ],
 "metadata": {
  "kernelspec": {
   "display_name": "Python 3 (ipykernel)",
   "language": "python",
   "name": "python3"
  },
  "language_info": {
   "codemirror_mode": {
    "name": "ipython",
    "version": 3
   },
   "file_extension": ".py",
   "mimetype": "text/x-python",
   "name": "python",
   "nbconvert_exporter": "python",
   "pygments_lexer": "ipython3",
   "version": "3.11.7"
  }
 },
 "nbformat": 4,
 "nbformat_minor": 5
}
