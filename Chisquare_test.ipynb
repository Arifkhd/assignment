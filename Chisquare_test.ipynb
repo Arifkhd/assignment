{
 "cells": [
  {
   "cell_type": "markdown",
   "id": "b3bad2f8",
   "metadata": {},
   "source": [
    "#    CHISQUARE_TEST"
   ]
  },
  {
   "cell_type": "markdown",
   "id": "ceacb99d",
   "metadata": {},
   "source": [
    "# State the Hypotheses:"
   ]
  },
  {
   "cell_type": "code",
   "execution_count": 8,
   "id": "12a4c71f",
   "metadata": {},
   "outputs": [],
   "source": [
    "import scipy.stats as st\n",
    "import numpy as np\n",
    "import pandas as pd\n",
    "from scipy import stats\n",
    "from scipy.stats import chi2_contingency"
   ]
  },
  {
   "cell_type": "code",
   "execution_count": 9,
   "id": "1729fc52",
   "metadata": {},
   "outputs": [],
   "source": [
    "\n",
    "#Null hypothesis(H0):There is no significant association between the type of smart home device purchased and the customer's satisfaction level.\n",
    "# H0 : The variables are independent\n",
    "#Alternative hypothesis(H1):There is a significant association between the type of smart home device purchased and the customer's satisfaction level.\n",
    "# H1:The variables are not independent"
   ]
  },
  {
   "cell_type": "markdown",
   "id": "d8301a7a",
   "metadata": {},
   "source": [
    "# Compute the Chi-Square Statistic:"
   ]
  },
  {
   "cell_type": "code",
   "execution_count": 10,
   "id": "86419f85",
   "metadata": {},
   "outputs": [
    {
     "data": {
      "text/plain": [
       "Chi2ContingencyResult(statistic=5.638227513227513, pvalue=0.22784371130697179, dof=4, expected_freq=array([[ 48.,  72.],\n",
       "       [ 72., 108.],\n",
       "       [ 60.,  90.],\n",
       "       [ 32.,  48.],\n",
       "       [ 28.,  42.]]))"
      ]
     },
     "execution_count": 10,
     "metadata": {},
     "output_type": "execute_result"
    }
   ],
   "source": [
    "observation = np.array([  #here we use numpy library to load the given data.\n",
    "    [50,70],\n",
    "    [80,100],\n",
    "    [60,90],\n",
    "    [30,50],\n",
    "    [20,50]\n",
    "])\n",
    "chi2_contingency(observation)"
   ]
  },
  {
   "cell_type": "code",
   "execution_count": 12,
   "id": "3d83ade8",
   "metadata": {},
   "outputs": [],
   "source": [
    "chi2,p,df,exp  = chi2_contingency(observation) #This function will calculate the chi-square value"
   ]
  },
  {
   "cell_type": "code",
   "execution_count": 19,
   "id": "4719df4d",
   "metadata": {},
   "outputs": [
    {
     "data": {
      "text/plain": [
       "(5.638227513227513, 4)"
      ]
     },
     "execution_count": 19,
     "metadata": {},
     "output_type": "execute_result"
    }
   ],
   "source": [
    "chi2, df #Chisquare value is 5.63 and df = 4"
   ]
  },
  {
   "cell_type": "markdown",
   "id": "ae2439f5",
   "metadata": {},
   "source": [
    "# Determine the Critical Value:"
   ]
  },
  {
   "cell_type": "code",
   "execution_count": 21,
   "id": "2041a95d",
   "metadata": {},
   "outputs": [
    {
     "data": {
      "text/plain": [
       "9.487729036781154"
      ]
     },
     "execution_count": 21,
     "metadata": {},
     "output_type": "execute_result"
    }
   ],
   "source": [
    "alpha = 0.05\n",
    "critical_value = stats.chi2.ppf(1-alpha,df)\n",
    "critical_value"
   ]
  },
  {
   "cell_type": "markdown",
   "id": "8bf8fc75",
   "metadata": {},
   "source": [
    "# Make Decision"
   ]
  },
  {
   "cell_type": "code",
   "execution_count": 22,
   "id": "f0c4fb72",
   "metadata": {},
   "outputs": [
    {
     "name": "stdout",
     "output_type": "stream",
     "text": [
      "Fail to reject null hypothesis:There is no significant association between the type of smart home device purchased and the customer's satisfaction level.\n"
     ]
    }
   ],
   "source": [
    "if chi2 > critical_value:\n",
    "    print(\"Reject the null hypothesis:There is significant association between the type of smart home device purchased and the customer's satisfaction level.\")\n",
    "else:\n",
    "    print(\"Fail to reject null hypothesis:There is no significant association between the type of smart home device purchased and the customer's satisfaction level.\")"
   ]
  },
  {
   "cell_type": "code",
   "execution_count": null,
   "id": "63c10b5f",
   "metadata": {},
   "outputs": [],
   "source": []
  },
  {
   "cell_type": "code",
   "execution_count": null,
   "id": "9f878c25",
   "metadata": {},
   "outputs": [],
   "source": []
  }
 ],
 "metadata": {
  "kernelspec": {
   "display_name": "Python 3 (ipykernel)",
   "language": "python",
   "name": "python3"
  },
  "language_info": {
   "codemirror_mode": {
    "name": "ipython",
    "version": 3
   },
   "file_extension": ".py",
   "mimetype": "text/x-python",
   "name": "python",
   "nbconvert_exporter": "python",
   "pygments_lexer": "ipython3",
   "version": "3.11.7"
  }
 },
 "nbformat": 4,
 "nbformat_minor": 5
}
